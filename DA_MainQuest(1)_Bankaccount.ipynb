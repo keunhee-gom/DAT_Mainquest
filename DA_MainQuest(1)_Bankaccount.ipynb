{
 "cells": [
  {
   "cell_type": "code",
   "execution_count": 17,
   "id": "351ec65d",
   "metadata": {},
   "outputs": [
    {
     "name": "stdout",
     "output_type": "stream",
     "text": [
      "[백만원 이상 고객 정보]\n",
      "은행이름: SC은행, 예금주: 권근희, 계좌번호: 872-15-759212, 잔액: 1,000,000원\n",
      "은행이름: SC은행, 예금주: Lisa, 계좌번호: 354-97-724759, 잔액: 4,000,000원\n"
     ]
    }
   ],
   "source": [
    "import random\n",
    "\n",
    "class Account:\n",
    "    # 클래스 변수: 생성된 계좌 수 저장\n",
    "    account_count = 0  \n",
    "    \n",
    "    def __init__(self, owner, balance):\n",
    "        self.bank_name = \"SC은행\" # 고정된 은행 이름\n",
    "        self.owner = owner        # 예금주\n",
    "        self.balance = balance    # 초기 잔액\n",
    "        self.account_number = self.generate_account_number() # 랜덤 계좌번호 생성\n",
    "        \n",
    "        self.deposit_count = 0 # 입금 횟수 추적용 인스턴스 변수\n",
    "        \n",
    "        self.deposit_list = [] # Q10: 입금 내역 저장\n",
    "        self.withdraw_list = []  # Q10: 출금 내역 저장\n",
    "               \n",
    "        # 클래스 변수 증가\n",
    "        Account.account_count += 1  # 계좌가 하나 더 만들어졌으므로 카운트 증가\n",
    "        \n",
    "        # 랜덤 계좌번호 생성(3-2-6)\n",
    "    def generate_account_number(self):\n",
    "        part1 = str(random.randint(100,999))\n",
    "        part2 = str(random.randint(10,99))\n",
    "        part3 = str(random.randint(100000,999999))\n",
    "        return f\"{part1}-{part2}-{part3}\"\n",
    "    \n",
    "    @classmethod    # 클래스 전체에 작용하는 메서드 -> 지금까지 생성된 계좌 수 확인\n",
    "    def get_account_num(cls):\n",
    "        return cls.account_count\n",
    "        print(f\"현재까지 생성된 계좌수:{cls.account_count}\")\n",
    "        \n",
    "     # 입금 메서드   \n",
    "    def deposit(self,amount):\n",
    "        if amount >=1:\n",
    "            self.balance += amount\n",
    "            self.deposit_count += 1\n",
    "            self.deposit_list.append(amount) # 입금 내역 기록\n",
    "            print(f\"{amount:,}원이 입금되었습니다. 현재 잔액: {self.balance:,}원\")\n",
    "            \n",
    "            # 입금 5회시 마다 잔고의 1% 이자 지급\n",
    "            if self.deposit_count %5 == 0:\n",
    "                interest = int(self.balance*0.01)\n",
    "                self.balance += interest\n",
    "                print(f\"이자 {interest}원이 지급되었습니다. 잔액: {self.balance:,}원\")\n",
    "        else:\n",
    "            print(\"1원 이상을 입금해 주세요\")\n",
    "\n",
    "        \n",
    "    # 출금 메서드\n",
    "    def withdraw(self, amount):\n",
    "        if amount > self.balance:\n",
    "            print(\"잔액 부족으로 출금이 불가능합니다\")\n",
    "        else:\n",
    "            self.balance -= amount\n",
    "            self.withdraw_list.append(amount) # 출금 내역 기록\n",
    "            print(f\"{amount}원이 출금되었습니다. 현재 잔액:{self.balance}원\")\n",
    "            \n",
    "            \n",
    "    # 디스플레이 메서드       \n",
    "    def disply_info(self):\n",
    "        print(\"은행이름: {}, 예금주: {}, 계좌번호: {}, 잔액: {:,}원\".format(self.bank_name, self.owner, self.account_number, self.balance))\n",
    "\n",
    "    # Q10: 입금 내역 출력\n",
    "    def desopit_history(self):\n",
    "        print(f\"{self.owner}님의 입금 내역:\")\n",
    "        for i, amount in enumerate(self.deposit_list, start=1):\n",
    "            print(f\"{i}.{amount:,}원\")\n",
    "            \n",
    "   # Q10: 출금 내역 출력\n",
    "\n",
    "    def withdraw_history(self):\n",
    "        print(f\"{self.owener}님의 출금 내역:\")\n",
    "        for i, amount in enumerate(self.withdraw_list, start=1):\n",
    "            print(f\"{i}.{amount:,}원\")\n",
    "        \n",
    "acc1 = Account(\"홍길동\",500000)\n",
    "acc2 = Account(\"권근희\",1000000)\n",
    "acc3 = Account(\"Alice\", 200000)\n",
    "acc4 = Account(\"Lisa\",4000000)\n",
    "\n",
    "accounts=[acc1, acc2, acc3, acc4]\n",
    "\n",
    "# Q9: 잔고가 1백만원 이상인 고객만 출력\n",
    "\n",
    "print(\"[백만원 이상 고객 정보]\")\n",
    "for acc in accounts:\n",
    "    if acc.balance >= 1000000:\n",
    "        acc.disply_info()"
   ]
  },
  {
   "cell_type": "code",
   "execution_count": 18,
   "id": "55f128fb",
   "metadata": {},
   "outputs": [],
   "source": [
    "class Account:\n",
    "    # 클래스 변수: 생성된 계좌 수 저장\n",
    "    account_count = 0  \n",
    "    \n",
    "    def __init__(self, owner, balance):\n",
    "        self.bank_name = \"SC은행\" # 고정된 은행 이름\n",
    "        self.owner = owner        # 예금주\n",
    "        self.balance = balance    # 초기 잔액\n",
    "        self.account_number = self.generate_account_number() # 랜덤 계좌번호 생성\n",
    "        \n",
    "        # 클래스 변수 증가\n",
    "        Account.account_count += 1  # 계좌가 하나 더 만들어졌으므로 카운트 증가\n",
    "     \n",
    "     # 랜덤 계좌번호 생성(3-2-6)\n",
    "    def generate_account_number(self):\n",
    "        part1 = str(random.randint(100,999))\n",
    "        part2 = str(random.randint(10,99))\n",
    "        part3 = str(random.randint(100000,999999))\n",
    "        return f\"{part1}-{part2}-{part3}\"   # 예시) 123-45-678901\n",
    "        \n",
    "    @classmethod    # 클래스 전체에 작용하는 메서드 -> 지금까지 생성된 계좌 수 확인\n",
    "    def get_account_num(cls):\n",
    "        return cls.account_count\n",
    "        print(f\"현재까지 생성된 계좌수:{cls.account_count}\")\n",
    "       "
   ]
  },
  {
   "cell_type": "code",
   "execution_count": 19,
   "id": "f719c4b5",
   "metadata": {},
   "outputs": [
    {
     "data": {
      "text/plain": [
       "2"
      ]
     },
     "execution_count": 19,
     "metadata": {},
     "output_type": "execute_result"
    }
   ],
   "source": [
    "acc1 = Account(\"홍길동\", 10000)\n",
    "acc2 = Account(\"김철수\", 5000)\n",
    "\n",
    "Account.get_account_num()  # 출력: 현재까지 생성된 계좌 수: 2"
   ]
  },
  {
   "cell_type": "code",
   "execution_count": 20,
   "id": "b37763fc",
   "metadata": {},
   "outputs": [
    {
     "name": "stdout",
     "output_type": "stream",
     "text": [
      "홍길동\n",
      "927-41-977412\n",
      "10000\n"
     ]
    }
   ],
   "source": [
    "print(acc1.owner)  # 홍길동\n",
    "print(acc1.account_number)  # 예: 123-45-678901\n",
    "print(acc1.balance)  # 10000"
   ]
  },
  {
   "cell_type": "code",
   "execution_count": 39,
   "id": "db2cbf7b",
   "metadata": {},
   "outputs": [],
   "source": [
    "class Account:\n",
    "    # 클래스 변수: 생성된 계좌 수 저장\n",
    "    account_count = 0  \n",
    "    \n",
    "    def __init__(self, owner, balance):\n",
    "        self.bank_name = \"SC은행\" # 고정된 은행 이름\n",
    "        self.owner = owner        # 예금주\n",
    "        self.balance = balance    # 초기 잔액\n",
    "        self.account_number = self.generate_account_number() # 랜덤 계좌번호 생성\n",
    "        \n",
    "        # 클래스 변수 증가\n",
    "        Account.account_count += 1  # 계좌가 하나 더 만들어졌으므로 카운트 증가\n",
    "     \n",
    "     # 랜덤 계좌번호 생성(3-2-6)\n",
    "    def generate_account_number(self):\n",
    "        part1 = str(random.randint(100,999))\n",
    "        part2 = str(random.randint(10,99))\n",
    "        part3 = str(random.randint(100000,999999))\n",
    "        return f\"{part1}-{part2}-{part3}\"   # 예시) 123-45-678901\n",
    "        \n",
    "    @classmethod    # 클래스 전체에 작용하는 메서드 -> 지금까지 생성된 계좌 수 확인\n",
    "    def get_account_num(cls):\n",
    "        return cls.account_count\n",
    "        print(f\"현재까지 생성된 계좌수:{cls.account_count}\")\n",
    "        \n",
    "        # 입금 메서드   \n",
    "    def deposit(self,amount):\n",
    "        if amount >=1:\n",
    "            self.balance += amount\n",
    "            self.deposit_count += 1\n",
    "            print(f\"{amount}원이 입금되었습니다. 현재 잔액: {self.balance}원\")\n",
    "        else:\n",
    "            print(\"1원 이상을 입금해 주세요\")\n",
    "            \n",
    "            \n",
    " # 출금 메서드\n",
    "    def withdraw(self,amount):\n",
    "        if amount > self.balance:\n",
    "            print(\"잔액 부족으로 출금이 불가능합니다\")\n",
    "        else:\n",
    "            self.balance -= amount\n",
    "            print(f\"{amount}원이 출금되었습니다. 현재 잔액:{self.balance}원\")\n",
    "       "
   ]
  },
  {
   "cell_type": "code",
   "execution_count": 40,
   "id": "406d848b",
   "metadata": {},
   "outputs": [
    {
     "name": "stdout",
     "output_type": "stream",
     "text": [
      "2,500,000원이 입금되었습니다. 현재 잔액: 9,000,000원\n"
     ]
    }
   ],
   "source": [
    "acc1=Account(\"권근희\",100000000)\n",
    "acc.deposit(2500000)"
   ]
  },
  {
   "cell_type": "code",
   "execution_count": 41,
   "id": "e7abbebc",
   "metadata": {},
   "outputs": [
    {
     "name": "stdout",
     "output_type": "stream",
     "text": [
      "권근희 298-62-374899 100000000\n"
     ]
    }
   ],
   "source": [
    "print(acc1.owner, acc1.account_number, acc1.balance)"
   ]
  },
  {
   "cell_type": "code",
   "execution_count": 36,
   "id": "6185197a",
   "metadata": {},
   "outputs": [
    {
     "name": "stdout",
     "output_type": "stream",
     "text": [
      "2500000원이 출금되었습니다. 현재 잔액:4000000원\n"
     ]
    }
   ],
   "source": [
    "acc.withdraw(2500000)"
   ]
  },
  {
   "cell_type": "code",
   "execution_count": 42,
   "id": "e798c83f",
   "metadata": {},
   "outputs": [],
   "source": [
    "import random\n",
    "\n",
    "class Account:\n",
    "    # 클래스 변수: 생성된 계좌 수 저장\n",
    "    account_count = 0  \n",
    "    \n",
    "    def __init__(self, owner, balance):\n",
    "        self.bank_name = \"SC은행\" # 고정된 은행 이름\n",
    "        self.owner = owner        # 예금주\n",
    "        self.balance = balance    # 초기 잔액\n",
    "        self.account_number = self.generate_account_number() # 랜덤 계좌번호 생성\n",
    "        self.deposit_count = 0 # Q7:입금 횟수 추적용 인스턴스 변수\n",
    "        \n",
    "        # 클래스 변수 증가\n",
    "        Account.account_count += 1  # 계좌가 하나 더 만들어졌으므로 카운트 증가\n",
    "     \n",
    "     # 랜덤 계좌번호 생성(3-2-6)\n",
    "    def generate_account_number(self):\n",
    "        part1 = str(random.randint(100,999))\n",
    "        part2 = str(random.randint(10,99))\n",
    "        part3 = str(random.randint(100000,999999))\n",
    "        return f\"{part1}-{part2}-{part3}\"   # 예시) 123-45-678901\n",
    "        \n",
    "    @classmethod    # 클래스 전체에 작용하는 메서드 -> 지금까지 생성된 계좌 수 확인\n",
    "    def get_account_num(cls):\n",
    "        return cls.account_count\n",
    "        print(f\"현재까지 생성된 계좌수:{cls.account_count}\")\n",
    "        \n",
    "        # 입금 메서드   \n",
    "    def deposit(self,amount):\n",
    "        if amount >=1:\n",
    "            self.balance += amount\n",
    "            self.deposit_count +=1  \n",
    "            print(f\"{amount}원이 입금되었습니다. 현재 잔액: {self.balance}원\")\n",
    "            # Q7:  입금 5회시 마다 잔고의 1% 이자 지급\n",
    "            if self.deposit_count % 5 == 0:\n",
    "                interest = int(self.balance*0.01)\n",
    "                self.balance += interest\n",
    "                print(f\"이자 {interest}원이 지급되었습니다. 잔액: {self.balance:,}원\")\n",
    "        else:\n",
    "            print(\"1원 이상을 입금해 주세요\")\n",
    "            \n",
    "            \n",
    " # 출금 메서드\n",
    "    def withdraw(self,amount):\n",
    "        if amount > self.balance:\n",
    "            print(\"잔액 부족으로 출금이 불가능합니다\")\n",
    "        else:\n",
    "            self.balance -= amount\n",
    "            print(f\"{amount}원이 출금되었습니다. 현재 잔액:{self.balance}원\")\n",
    "            \n",
    "            \n",
    "# 디스플레이 메서드       \n",
    "    def disply_info(self):\n",
    "        print(\"은행이름: {}, 예금주: {}, 계좌번호: {}, 잔액: {:,}원\".format(self.bank_name, self.owner, self.account_number, self.balance))"
   ]
  },
  {
   "cell_type": "code",
   "execution_count": 43,
   "id": "837cae31",
   "metadata": {},
   "outputs": [
    {
     "name": "stdout",
     "output_type": "stream",
     "text": [
      "1000원이 입금되었습니다. 현재 잔액: 11000원\n",
      "2000원이 입금되었습니다. 현재 잔액: 13000원\n",
      "3000원이 입금되었습니다. 현재 잔액: 16000원\n",
      "4000원이 입금되었습니다. 현재 잔액: 20000원\n",
      "5000원이 입금되었습니다. 현재 잔액: 25000원\n",
      "이자 250원이 지급되었습니다. 잔액: 25,250원\n",
      "은행이름: SC은행, 예금주: 파이썬, 계좌번호: 746-24-741252, 잔액: 25,250원\n"
     ]
    }
   ],
   "source": [
    "acc = Account(\"파이썬\", 10000)\n",
    "acc.deposit(1000)\n",
    "acc.deposit(2000)\n",
    "acc.deposit(3000)\n",
    "acc.deposit(4000)\n",
    "acc.deposit(5000)\n",
    "# 입금 5회 → 이자 자동 지급됨\n",
    "\n",
    "acc.disply_info()"
   ]
  },
  {
   "cell_type": "code",
   "execution_count": 1,
   "id": "6000de35",
   "metadata": {},
   "outputs": [],
   "source": [
    "import random\n",
    "\n",
    "class Account:\n",
    "    # 클래스 변수: 생성된 계좌 수 저장\n",
    "    account_count = 0  \n",
    "    \n",
    "    def __init__(self, owner, balance):\n",
    "        self.bank_name = \"SC은행\" # 고정된 은행 이름\n",
    "        self.owner = owner        # 예금주\n",
    "        self.balance = balance    # 초기 잔액\n",
    "        self.account_number = self.generate_account_number() # 랜덤 계좌번호 생성\n",
    "        self.deposit_count = 0 # Q7:입금 횟수 추적용 인스턴스 변수\n",
    "        \n",
    "        self.deposit_list = [] # Q10: 입금 내역 저장\n",
    "        self.withdraw_list = []  # Q10: 출금 내역 저장\n",
    "        \n",
    "        # 클래스 변수 증가\n",
    "        Account.account_count += 1  # 계좌가 하나 더 만들어졌으므로 카운트 증가\n",
    "     \n",
    "     # 랜덤 계좌번호 생성(3-2-6)\n",
    "    def generate_account_number(self):\n",
    "        part1 = str(random.randint(100,999))\n",
    "        part2 = str(random.randint(10,99))\n",
    "        part3 = str(random.randint(100000,999999))\n",
    "        return f\"{part1}-{part2}-{part3}\"   # 예시) 123-45-678901\n",
    "        \n",
    "    @classmethod    # 클래스 전체에 작용하는 메서드 -> 지금까지 생성된 계좌 수 확인\n",
    "    def get_account_num(cls):\n",
    "        return cls.account_count\n",
    "        print(f\"현재까지 생성된 계좌수:{cls.account_count}\")\n",
    "        \n",
    "        # 입금 메서드   \n",
    "    def deposit(self,amount):\n",
    "        if amount >=1:\n",
    "            self.balance += amount\n",
    "            self.deposit_count +=1\n",
    "            self.deposit_list.append(amount) # Q10: 입금 내역 기록\n",
    "            print(f\"{amount}원이 입금되었습니다. 현재 잔액: {self.balance}원\")\n",
    "            # Q7:  입금 5회시 마다 잔고의 1% 이자 지급\n",
    "            if self.deposit_count % 5 == 0:\n",
    "                interest = int(self.balance*0.01)\n",
    "                self.balance += interest\n",
    "                print(f\"이자 {interest}원이 지급되었습니다. 잔액: {self.balance:,}원\")\n",
    "        else:\n",
    "            print(\"1원 이상을 입금해 주세요\")\n",
    "            \n",
    "            \n",
    " # 출금 메서드\n",
    "    def withdraw(self,amount):\n",
    "        if amount > self.balance:\n",
    "            print(\"잔액 부족으로 출금이 불가능합니다\")\n",
    "        else:\n",
    "            self.balance -= amount\n",
    "            self.withdraw_list.append(amount) # Q10: 출금 내역 기록\n",
    "            print(f\"{amount}원이 출금되었습니다. 현재 잔액:{self.balance}원\")\n",
    "            \n",
    "            \n",
    "# 디스플레이 메서드       \n",
    "    def disply_info(self):\n",
    "        print(f\"은행이름: {self.bank_name}, 예금주: {self.owner}, 계좌번호: {self.account_number}, 잔액: {self.balance:,}원\")\n",
    "        \n",
    "        \n",
    "     # Q10: 입금 내역 출력\n",
    "    def desopit_history(self):\n",
    "        print(f\"{self.owner}님의 입금 내역:\")\n",
    "        for i, amount in enumerate(self.deposit_list, start=1):\n",
    "            print(f\"{i}.{amount:,}원\")\n",
    "            \n",
    "   # Q10: 출금 내역 출력\n",
    "    def withdraw_history(self):\n",
    "        print(f\"{self.owener}님의 출금 내역:\")\n",
    "        for i, amount in enumerate(self.withdraw_list, start=1):\n",
    "            print(f\"{i}.{amount:,}원\")\n",
    "       "
   ]
  },
  {
   "cell_type": "code",
   "execution_count": 2,
   "id": "07db44c1",
   "metadata": {},
   "outputs": [],
   "source": [
    "acc1 = Account(\"홍길동\",500000)\n",
    "acc2 = Account(\"권근희\",1000000)\n",
    "acc3 = Account(\"Alice\", 200000)\n",
    "acc4 = Account(\"Lisa\",4000000)\n",
    "\n",
    "accounts=[acc1, acc2, acc3, acc4]"
   ]
  },
  {
   "cell_type": "code",
   "execution_count": 3,
   "id": "14f31862",
   "metadata": {},
   "outputs": [
    {
     "name": "stdout",
     "output_type": "stream",
     "text": [
      "[백만원 이상 고객 정보]\n",
      "은행이름: SC은행, 예금주: 권근희, 계좌번호: 374-82-523920, 잔액: 1,000,000원\n",
      "은행이름: SC은행, 예금주: Lisa, 계좌번호: 267-74-790856, 잔액: 4,000,000원\n"
     ]
    }
   ],
   "source": [
    "# Q9: 잔고가 1백만원 이상인 고객만 출력\n",
    "\n",
    "print(\"[백만원 이상 고객 정보]\")\n",
    "for acc in accounts:\n",
    "    if acc.balance >= 1000000:\n",
    "        acc.disply_info()\n",
    "        "
   ]
  }
 ],
 "metadata": {
  "kernelspec": {
   "display_name": "Python 3 (ipykernel)",
   "language": "python",
   "name": "python3"
  },
  "language_info": {
   "codemirror_mode": {
    "name": "ipython",
    "version": 3
   },
   "file_extension": ".py",
   "mimetype": "text/x-python",
   "name": "python",
   "nbconvert_exporter": "python",
   "pygments_lexer": "ipython3",
   "version": "3.9.7"
  }
 },
 "nbformat": 4,
 "nbformat_minor": 5
}
